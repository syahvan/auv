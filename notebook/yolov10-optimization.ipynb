{
 "cells": [
  {
   "cell_type": "markdown",
   "id": "e9d010ff-85ba-4e69-b439-ba89e4a3a715",
   "metadata": {},
   "source": [
    "# Convert and Optimize YOLOv10 with OpenVINO\n",
    "\n",
    "Real-time object detection aims to accurately predict object categories and positions in images with low latency. The YOLO series has been at the forefront of this research due to its balance between performance and efficiency. However, reliance on NMS and architectural inefficiencies have hindered optimal performance. YOLOv10 addresses these issues by introducing consistent dual assignments for NMS-free training and a holistic efficiency-accuracy driven model design strategy.\n",
    "\n",
    "YOLOv10, built on the [Ultralytics Python package](https://pypi.org/project/ultralytics/) by researchers at [Tsinghua University](https://www.tsinghua.edu.cn/en/), introduces a new approach to real-time object detection, addressing both the post-processing and model architecture deficiencies found in previous YOLO versions. By eliminating non-maximum suppression (NMS) and optimizing various model components, YOLOv10 achieves state-of-the-art performance with significantly reduced computational overhead. Extensive experiments demonstrate its superior accuracy-latency trade-offs across multiple model scales.\n",
    "\n",
    "![yolov10-approach.png](https://github.com/ultralytics/ultralytics/assets/26833433/f9b1bec0-928e-41ce-a205-e12db3c4929a)\n",
    "\n",
    "More details about model architecture you can find in original [repo](https://github.com/THU-MIG/yolov10), [paper](https://arxiv.org/abs/2405.14458) and [Ultralytics documentation](https://docs.ultralytics.com/models/yolov10/).\n",
    "\n"
   ]
  },
  {
   "cell_type": "markdown",
   "id": "144e86a1-c220-4e3b-a8b2-8eda443faf2d",
   "metadata": {},
   "source": [
    "## Prerequisites"
   ]
  },
  {
   "cell_type": "code",
   "execution_count": 1,
   "id": "bf76580b-860a-4dcd-8b01-f494cdffe37e",
   "metadata": {
    "tags": [],
    "vscode": {
     "languageId": "shellscript"
    }
   },
   "outputs": [
    {
     "name": "stdout",
     "output_type": "stream",
     "text": [
      "Note: you may need to restart the kernel to use updated packages.\n"
     ]
    },
    {
     "name": "stderr",
     "output_type": "stream",
     "text": [
      "WARNING: Skipping openvino-dev as it is not installed.\n",
      "WARNING: Skipping openvino-nightly as it is not installed.\n"
     ]
    },
    {
     "name": "stdout",
     "output_type": "stream",
     "text": [
      "Note: you may need to restart the kernel to use updated packages.\n",
      "Note: you may need to restart the kernel to use updated packages.\n",
      "Note: you may need to restart the kernel to use updated packages.\n"
     ]
    }
   ],
   "source": [
    "import os\n",
    "\n",
    "os.environ[\"GIT_CLONE_PROTECTION_ACTIVE\"] = \"false\"\n",
    "\n",
    "%pip uninstall -y -q openvino openvino-dev openvino-nightly\n",
    "%pip install -q \"openvino-nightly\" \"git+https://github.com/openvinotoolkit/nncf.git\"\n",
    "%pip install -q git+https://github.com/THU-MIG/yolov10.git --extra-index-url https://download.pytorch.org/whl/cpu\n",
    "%pip install -q \"torch>=2.1\" \"torchvision>=0.16\" tqdm opencv-python \"gradio>=4.19\" --extra-index-url https://download.pytorch.org/whl/cpu"
   ]
  },
  {
   "cell_type": "markdown",
   "id": "27ad1ee0",
   "metadata": {},
   "source": [
    "## Prepare PyTorch Model"
   ]
  },
  {
   "cell_type": "code",
   "execution_count": 2,
   "id": "6348ff80",
   "metadata": {
    "vscode": {
     "languageId": "shellscript"
    }
   },
   "outputs": [],
   "source": [
    "from pathlib import Path\n",
    "models_dir = Path(\"./model\")\n",
    "models_dir.mkdir(exist_ok=True)"
   ]
  },
  {
   "cell_type": "code",
   "execution_count": 3,
   "id": "5ca52308",
   "metadata": {
    "vscode": {
     "languageId": "shellscript"
    }
   },
   "outputs": [],
   "source": [
    "file_name = \"auv.pt\"\n",
    "model_name = file_name.replace(\".pt\", \"\")"
   ]
  },
  {
   "cell_type": "markdown",
   "id": "dc21487d-dd79-4b56-b8e2-5b28c8d92ac8",
   "metadata": {},
   "source": [
    "## Export PyTorch model to OpenVINO IR Format"
   ]
  },
  {
   "cell_type": "markdown",
   "id": "8cfec0d6-fb55-4611-861b-326e892fcf09",
   "metadata": {},
   "source": [
    "YOLO V10 code is designed on top of [Ultralytics](https://docs.ultralytics.com/) library and has similar interface with YOLO V8 (You can check [YOLO V8 notebooks](https://github.com/openvinotoolkit/openvino_notebooks/tree/latest/notebooks/yolov8-optimization) for more detailed instruction how to work with Ultralytics API). Ultralytics support OpenVINO model export using [export](https://docs.ultralytics.com/modes/export/) method of model class. Additionally, we can specify parameters responsible for target input size, static or dynamic input shapes and model precision (FP32/FP16/INT8). INT8 quantization can be additionally performed on export stage, but for making approach more flexible, we consider how to perform quantization using [NNCF](https://github.com/openvinotoolkit/nncf)."
   ]
  },
  {
   "cell_type": "code",
   "execution_count": 4,
   "id": "d488f564-c1d5-4c6a-9b4a-353a3ab749e6",
   "metadata": {
    "tags": [],
    "vscode": {
     "languageId": "shellscript"
    }
   },
   "outputs": [
    {
     "name": "stderr",
     "output_type": "stream",
     "text": [
      "c:\\Users\\HP\\OneDrive\\Documents\\University Workspace\\Kuliah\\Tugas Akhir\\auv\\auv\\lib\\site-packages\\tqdm\\auto.py:21: TqdmWarning: IProgress not found. Please update jupyter and ipywidgets. See https://ipywidgets.readthedocs.io/en/stable/user_install.html\n",
      "  from .autonotebook import tqdm as notebook_tqdm\n"
     ]
    },
    {
     "name": "stdout",
     "output_type": "stream",
     "text": [
      "Ultralytics YOLOv8.1.34 🚀 Python-3.9.0 torch-2.3.1+cpu CPU (Intel Core(TM) i5-10300H 2.50GHz)\n",
      "YOLOv10n summary (fused): 285 layers, 2695196 parameters, 0 gradients\n",
      "\n",
      "\u001b[34m\u001b[1mPyTorch:\u001b[0m starting from 'model\\auv.pt' with input shape (1, 3, 480, 480) BCHW and output shape(s) (1, 300, 6) (5.5 MB)\n",
      "\u001b[31m\u001b[1mrequirements:\u001b[0m Ultralytics requirement ['openvino>=2024.0.0'] not found, attempting AutoUpdate...\n",
      "Collecting openvino>=2024.0.0\n",
      "  Downloading openvino-2024.2.0-15519-cp39-cp39-win_amd64.whl.metadata (9.0 kB)\n",
      "Requirement already satisfied: numpy<2.0.0,>=1.16.6 in c:\\users\\hp\\onedrive\\documents\\university workspace\\kuliah\\tugas akhir\\auv\\auv\\lib\\site-packages (from openvino>=2024.0.0) (1.26.4)\n",
      "Requirement already satisfied: openvino-telemetry>=2023.2.1 in c:\\users\\hp\\onedrive\\documents\\university workspace\\kuliah\\tugas akhir\\auv\\auv\\lib\\site-packages (from openvino>=2024.0.0) (2024.1.0)\n",
      "Requirement already satisfied: packaging in c:\\users\\hp\\onedrive\\documents\\university workspace\\kuliah\\tugas akhir\\auv\\auv\\lib\\site-packages (from openvino>=2024.0.0) (24.1)\n",
      "Downloading openvino-2024.2.0-15519-cp39-cp39-win_amd64.whl (32.4 MB)\n",
      "   ---------------------------------------- 32.4/32.4 MB 10.9 MB/s eta 0:00:00\n",
      "Installing collected packages: openvino\n",
      "Successfully installed openvino-2024.2.0\n",
      "\n",
      "\u001b[31m\u001b[1mrequirements:\u001b[0m AutoUpdate success ✅ 12.9s, installed 1 package: ['openvino>=2024.0.0']\n",
      "\u001b[31m\u001b[1mrequirements:\u001b[0m ⚠️ \u001b[1mRestart runtime or rerun command for updates to take effect\u001b[0m\n",
      "\n",
      "\n",
      "\u001b[34m\u001b[1mOpenVINO:\u001b[0m starting export with openvino 2024.2.0-15519-5c0f38f83f6-releases/2024/2...\n",
      "\u001b[34m\u001b[1mOpenVINO:\u001b[0m export success ✅ 32.5s, saved as 'model\\auv_openvino_model\\' (4.8 MB)\n",
      "\n",
      "Export complete (37.0s)\n",
      "Results saved to \u001b[1mC:\\Users\\HP\\OneDrive\\Documents\\University Workspace\\Kuliah\\Tugas Akhir\\auv\\model\u001b[0m\n",
      "Predict:         yolo predict task=detect model=model\\auv_openvino_model imgsz=480 half \n",
      "Validate:        yolo val task=detect model=model\\auv_openvino_model imgsz=480 data=/content/Underwater-Pipe-Defect-9/data.yaml half \n",
      "Visualize:       https://netron.app\n"
     ]
    }
   ],
   "source": [
    "import types\n",
    "from ultralytics.utils import ops\n",
    "from ultralytics import YOLOv10\n",
    "import torch\n",
    "\n",
    "\n",
    "def v10_det_head_forward(self, x):\n",
    "    one2one = self.forward_feat([xi.detach() for xi in x], self.one2one_cv2, self.one2one_cv3)\n",
    "    if not self.export:\n",
    "        one2many = super().forward(x)\n",
    "\n",
    "    if not self.training:\n",
    "        one2one = self.inference(one2one)\n",
    "        if not self.export:\n",
    "            return {\"one2many\": one2many, \"one2one\": one2one}\n",
    "        else:\n",
    "            assert self.max_det != -1\n",
    "            boxes, scores, labels = ops.v10postprocess(one2one.permute(0, 2, 1), self.max_det, self.nc)\n",
    "            return torch.cat(\n",
    "                [boxes, scores.unsqueeze(-1), labels.unsqueeze(-1).to(boxes.dtype)],\n",
    "                dim=-1,\n",
    "            )\n",
    "    else:\n",
    "        return {\"one2many\": one2many, \"one2one\": one2one}\n",
    "\n",
    "\n",
    "ov_model_path = models_dir / f\"{model_name}_openvino_model/{model_name}.xml\"\n",
    "if not ov_model_path.exists():\n",
    "    model = YOLOv10(models_dir / file_name)\n",
    "    model.model.model[-1].forward = types.MethodType(v10_det_head_forward, model.model.model[-1])\n",
    "    model.export(format=\"openvino\", dynamic=True, half=True)"
   ]
  }
 ],
 "metadata": {
  "kernelspec": {
   "display_name": "Python 3",
   "language": "python",
   "name": "python3"
  },
  "language_info": {
   "codemirror_mode": {
    "name": "ipython",
    "version": 3
   },
   "file_extension": ".py",
   "mimetype": "text/x-python",
   "name": "python",
   "nbconvert_exporter": "python",
   "pygments_lexer": "ipython3",
   "version": "3.9.0"
  },
  "openvino_notebooks": {
   "imageUrl": "https://github.com/openvinotoolkit/openvino_notebooks/assets/29454499/ec5211d6-c052-4ee7-9faf-841bd60517be",
   "tags": {
    "categories": [
     "Model Demos",
     "AI Trends"
    ],
    "libraries": [],
    "other": [
     "YOLO"
    ],
    "tasks": [
     "Object Detection"
    ]
   }
  },
  "widgets": {
   "application/vnd.jupyter.widget-state+json": {
    "state": {},
    "version_major": 2,
    "version_minor": 0
   }
  }
 },
 "nbformat": 4,
 "nbformat_minor": 5
}
